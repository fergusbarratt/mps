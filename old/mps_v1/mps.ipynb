{
 "cells": [
  {
   "cell_type": "code",
   "execution_count": 16,
   "metadata": {
    "collapsed": true
   },
   "outputs": [],
   "source": [
    "%matplotlib inline\n",
    "from __future__ import division, print_function\n",
    "import qutip as qt\n",
    "import unittest\n",
    "import numpy as np\n",
    "from numpy import dot, diag, split, empty_like, zeros, allclose, identity, array\n",
    "from numpy.random import randn\n",
    "from numpy.linalg import svd, qr, norm\n",
    "from functools import reduce\n",
    "from itertools import product\n",
    "from qutip import sigmam as sm\n",
    "import matplotlib.pyplot as plt\n",
    "import seaborn as sns\n",
    "import qutip as qo\n",
    "from qutip import tensor\n",
    "sns.set()"
   ]
  },
  {
   "cell_type": "code",
   "execution_count": 9,
   "metadata": {},
   "outputs": [
    {
     "ename": "TypeError",
     "evalue": "Requires at least one input argument",
     "output_type": "error",
     "traceback": [
      "\u001b[0;31m---------------------------------------------------------------------------\u001b[0m",
      "\u001b[0;31mTypeError\u001b[0m                                 Traceback (most recent call last)",
      "\u001b[0;32m<ipython-input-9-11e6895ae544>\u001b[0m in \u001b[0;36m<module>\u001b[0;34m()\u001b[0m\n\u001b[0;32m----> 1\u001b[0;31m \u001b[0mqt\u001b[0m\u001b[0;34m.\u001b[0m\u001b[0mtensor\u001b[0m\u001b[0;34m(\u001b[0m\u001b[0;34m)\u001b[0m\u001b[0;34m\u001b[0m\u001b[0m\n\u001b[0m",
      "\u001b[0;32m/usr/local/var/pyenv/versions/3.6.1/lib/python3.6/site-packages/qutip/tensor.py\u001b[0m in \u001b[0;36mtensor\u001b[0;34m(*args)\u001b[0m\n\u001b[1;32m     80\u001b[0m \u001b[0;34m\u001b[0m\u001b[0m\n\u001b[1;32m     81\u001b[0m     \u001b[0;32mif\u001b[0m \u001b[0;32mnot\u001b[0m \u001b[0margs\u001b[0m\u001b[0;34m:\u001b[0m\u001b[0;34m\u001b[0m\u001b[0m\n\u001b[0;32m---> 82\u001b[0;31m         \u001b[0;32mraise\u001b[0m \u001b[0mTypeError\u001b[0m\u001b[0;34m(\u001b[0m\u001b[0;34m\"Requires at least one input argument\"\u001b[0m\u001b[0;34m)\u001b[0m\u001b[0;34m\u001b[0m\u001b[0m\n\u001b[0m\u001b[1;32m     83\u001b[0m \u001b[0;34m\u001b[0m\u001b[0m\n\u001b[1;32m     84\u001b[0m     \u001b[0;32mif\u001b[0m \u001b[0mlen\u001b[0m\u001b[0;34m(\u001b[0m\u001b[0margs\u001b[0m\u001b[0;34m)\u001b[0m \u001b[0;34m==\u001b[0m \u001b[0;36m1\u001b[0m \u001b[0;32mand\u001b[0m \u001b[0misinstance\u001b[0m\u001b[0;34m(\u001b[0m\u001b[0margs\u001b[0m\u001b[0;34m[\u001b[0m\u001b[0;36m0\u001b[0m\u001b[0;34m]\u001b[0m\u001b[0;34m,\u001b[0m \u001b[0;34m(\u001b[0m\u001b[0mlist\u001b[0m\u001b[0;34m,\u001b[0m \u001b[0mnp\u001b[0m\u001b[0;34m.\u001b[0m\u001b[0mndarray\u001b[0m\u001b[0;34m)\u001b[0m\u001b[0;34m)\u001b[0m\u001b[0;34m:\u001b[0m\u001b[0;34m\u001b[0m\u001b[0m\n",
      "\u001b[0;31mTypeError\u001b[0m: Requires at least one input argument"
     ]
    }
   ],
   "source": [
    "qt.tensor()"
   ]
  },
  {
   "cell_type": "code",
   "execution_count": 17,
   "metadata": {
    "collapsed": true
   },
   "outputs": [],
   "source": [
    "def S_n_body(op, i, n, tensorise=True):\n",
    "    '''n_body versions of local operators replace tensor with np.array for array of objects'''\n",
    "    if not i<n:\n",
    "        raise Exception(\"i must be less than n\")\n",
    "    l = [op**n for n in map(lambda j: int(not i-j), range(n))]\n",
    "    if tensorise:\n",
    "        return tensor(l)\n",
    "    else:\n",
    "        return np.array([d.full() for d in l])"
   ]
  },
  {
   "cell_type": "code",
   "execution_count": 18,
   "metadata": {
    "collapsed": true
   },
   "outputs": [],
   "source": [
    "def Sp(i, n, tensorise=True):\n",
    "    return S_n_body(qo.sigmap(), i, n, tensorise)\n",
    "def Sm(i, n, tensorise=True):\n",
    "    return S_n_body(qo.sigmam(), i, n, tensorise)\n",
    "def Sx(i, n, tensorise=True):\n",
    "    return S_n_body(qo.sigmax(), i, n, tensorise)\n",
    "def Sy(i, n, tensorise=True):\n",
    "    return S_n_body(qo.sigmay(), i, n, tensorise)\n",
    "def Sz(i, n, tensorise=True):\n",
    "    return S_n_body(qo.sigmaz(), i, n, tensorise)"
   ]
  },
  {
   "cell_type": "code",
   "execution_count": 19,
   "metadata": {
    "collapsed": true
   },
   "outputs": [],
   "source": [
    "def spin_half_heisenberg(J, Jz, h, N, tensorise=True):\n",
    "    NN = sum([J/2*(Sp(i, N, tensorise)*Sm(i+1, N, tensorise)+Sm(i, N, tensorise)*Sp(i+1, N, tensorise))+Jz*Sz(i, N, tensorise)*Sz(i+1, N, tensorise) \n",
    "              for i in range(N-1)])\n",
    "    S = -sum([h*Sz(i, N) for i in range(N)])\n",
    "    return NN + S"
   ]
  },
  {
   "cell_type": "code",
   "execution_count": 21,
   "metadata": {},
   "outputs": [
    {
     "ename": "AttributeError",
     "evalue": "'Qobj' object has no attribute 'ground_state'",
     "output_type": "error",
     "traceback": [
      "\u001b[0;31m---------------------------------------------------------------------------\u001b[0m",
      "\u001b[0;31mAttributeError\u001b[0m                            Traceback (most recent call last)",
      "\u001b[0;32m<ipython-input-21-cc49b9fd08a2>\u001b[0m in \u001b[0;36m<module>\u001b[0;34m()\u001b[0m\n\u001b[0;32m----> 1\u001b[0;31m \u001b[0mspin_half_heisenberg\u001b[0m\u001b[0;34m(\u001b[0m\u001b[0;36m1\u001b[0m\u001b[0;34m,\u001b[0m \u001b[0;36m1\u001b[0m\u001b[0;34m,\u001b[0m \u001b[0;36m1\u001b[0m\u001b[0;34m,\u001b[0m \u001b[0;36m10\u001b[0m\u001b[0;34m)\u001b[0m\u001b[0;34m.\u001b[0m\u001b[0mground_state\u001b[0m\u001b[0;34m(\u001b[0m\u001b[0;34m)\u001b[0m\u001b[0;34m\u001b[0m\u001b[0m\n\u001b[0m",
      "\u001b[0;31mAttributeError\u001b[0m: 'Qobj' object has no attribute 'ground_state'"
     ]
    }
   ],
   "source": [
    "spin_half_heisenberg(1, 1, 1, 10).ground_state()"
   ]
  },
  {
   "cell_type": "code",
   "execution_count": 281,
   "metadata": {
    "collapsed": true
   },
   "outputs": [],
   "source": [
    "class block(object):\n",
    "    def __init__(self, one_site_dim=2):\n",
    "        self.one_site_dim = one_site_dim\n",
    "        self.basis = self.canonical_basis(1)\n",
    "        self.size = 1\n",
    "        \n",
    "    def canonical_basis(self, n_sites):\n",
    "        if n_sites == 0:\n",
    "            raise Exception(\"Require at least one site\")\n",
    "        one_site_basis = [qs.basis(self.one_site_dim, k) for k in range(self.one_site_dim)]\n",
    "        return [tensor(*choice) for choice in product(*([one_site_basis]*n_sites))]\n",
    "    \n",
    "    def update(self):\n",
    "        self.size += 1\n",
    "\n",
    "def dmrg(time):\n",
    "    blockA = block()\n",
    "    blockB = block()\n",
    "    for t in time:\n",
    "        blockA.update()\n",
    "        blockB.update()\n",
    "    return blockA, blockB"
   ]
  },
  {
   "cell_type": "code",
   "execution_count": 246,
   "metadata": {
    "collapsed": true
   },
   "outputs": [],
   "source": [
    "a = np.random.rand(*[3]*3)"
   ]
  },
  {
   "cell_type": "code",
   "execution_count": 253,
   "metadata": {},
   "outputs": [
    {
     "data": {
      "text/plain": [
       "[[array([[-0.48013357,  0.57910044, -0.65887361]]),\n",
       "  array([[-0.5006447 , -0.79767217, -0.33626476]]),\n",
       "  array([[-0.72029621,  0.16840958,  0.67291276]])],\n",
       " [array([[-0.57725053,  0.22112269, -0.40333856],\n",
       "         [ 0.10106038,  0.16666868,  0.21674944],\n",
       "         [ 0.0159662 , -0.65059538, -0.18141742]]),\n",
       "  array([[-0.59922684,  0.19039448,  0.53557794],\n",
       "         [ 0.0676347 , -0.10120747,  0.08951652],\n",
       "         [-0.01426518, -0.30218078, -0.04946054]]),\n",
       "  array([[-0.49160836, -0.56262721,  0.16077116],\n",
       "         [-0.22336828,  0.18736942, -0.59509045],\n",
       "         [-0.02984585, -0.10290312, -0.28309384]])],\n",
       " [array([[ 0.37823169],\n",
       "         [ 0.25949556],\n",
       "         [-0.03359565]]), array([[ 0.64732916],\n",
       "         [-0.02653279],\n",
       "         [ 0.09063338]]), array([[ 0.57845662],\n",
       "         [-0.13998284],\n",
       "         [-0.07945745]])]]"
      ]
     },
     "execution_count": 253,
     "metadata": {},
     "output_type": "execute_result"
    }
   ],
   "source": [
    "a = a/norm(a)\n",
    "mps = left_canonical_mps(a)\n",
    "mps.mps"
   ]
  },
  {
   "cell_type": "code",
   "execution_count": 251,
   "metadata": {},
   "outputs": [
    {
     "data": {
      "text/plain": [
       "array([[  1.00000000e+00,   2.49800181e-16,  -2.77555756e-16],\n",
       "       [  2.49800181e-16,   1.00000000e+00,   2.22044605e-16],\n",
       "       [ -2.77555756e-16,   2.22044605e-16,   1.00000000e+00]])"
      ]
     },
     "execution_count": 251,
     "metadata": {},
     "output_type": "execute_result"
    }
   ],
   "source": [
    "sum(map(lambda (x, y): dot(x.T, y), zip(*[mps.mps[0]]*2)))"
   ]
  },
  {
   "cell_type": "code",
   "execution_count": 5,
   "metadata": {},
   "outputs": [
    {
     "ename": "NameError",
     "evalue": "name 'tensor' is not defined",
     "output_type": "error",
     "traceback": [
      "\u001b[0;31m---------------------------------------------------------------------------\u001b[0m",
      "\u001b[0;31mNameError\u001b[0m                                 Traceback (most recent call last)",
      "\u001b[0;32m<ipython-input-5-44ecb4435187>\u001b[0m in \u001b[0;36m<module>\u001b[0;34m()\u001b[0m\n\u001b[0;32m----> 1\u001b[0;31m \u001b[0mtensor\u001b[0m\u001b[0;34m(\u001b[0m\u001b[0;34m)\u001b[0m\u001b[0;34m\u001b[0m\u001b[0m\n\u001b[0m",
      "\u001b[0;31mNameError\u001b[0m: name 'tensor' is not defined"
     ]
    }
   ],
   "source": [
    "tensor()"
   ]
  },
  {
   "cell_type": "code",
   "execution_count": 191,
   "metadata": {},
   "outputs": [
    {
     "data": {
      "text/plain": [
       "[[array([[-0.46318876,  0.03094837, -0.88571913]]),\n",
       "  array([[-0.73682005, -0.56881017,  0.36544657]]),\n",
       "  array([[-0.49249607,  0.82188636,  0.28626986]])],\n",
       " [array([[-0.44714208],\n",
       "         [-0.76444324],\n",
       "         [-0.36264286]]), array([[-0.24103104],\n",
       "         [ 0.08513212],\n",
       "         [ 0.1177369 ]]), array([[ 0.01548589],\n",
       "         [-0.03667897],\n",
       "         [ 0.05822422]])]]"
      ]
     },
     "execution_count": 191,
     "metadata": {},
     "output_type": "execute_result"
    }
   ],
   "source": [
    "mps.mps"
   ]
  },
  {
   "cell_type": "code",
   "execution_count": 5,
   "metadata": {},
   "outputs": [
    {
     "name": "stdout",
     "output_type": "stream",
     "text": [
      "[5, 4, 3, 2, 1]\n"
     ]
    }
   ],
   "source": [
    "print(list(reversed(range(1, 5+1))))"
   ]
  },
  {
   "cell_type": "code",
   "execution_count": 7,
   "metadata": {},
   "outputs": [
    {
     "data": {
      "text/plain": [
       "[0, 1, 2, 3, 4]"
      ]
     },
     "execution_count": 7,
     "metadata": {},
     "output_type": "execute_result"
    }
   ],
   "source": [
    "list(range(5))"
   ]
  },
  {
   "cell_type": "code",
   "execution_count": 9,
   "metadata": {},
   "outputs": [
    {
     "data": {
      "text/plain": [
       "[10, 9, 8, 7, 6]"
      ]
     },
     "execution_count": 9,
     "metadata": {},
     "output_type": "execute_result"
    }
   ],
   "source": [
    "list(reversed(range(5+1, 10+1)))"
   ]
  },
  {
   "cell_type": "code",
   "execution_count": 10,
   "metadata": {},
   "outputs": [
    {
     "data": {
      "text/plain": [
       "128"
      ]
     },
     "execution_count": 10,
     "metadata": {},
     "output_type": "execute_result"
    }
   ],
   "source": [
    "2**7"
   ]
  },
  {
   "cell_type": "code",
   "execution_count": 11,
   "metadata": {},
   "outputs": [
    {
     "data": {
      "text/plain": [
       "128"
      ]
     },
     "execution_count": 11,
     "metadata": {},
     "output_type": "execute_result"
    }
   ],
   "source": [
    "8*16"
   ]
  },
  {
   "cell_type": "code",
   "execution_count": 16,
   "metadata": {},
   "outputs": [
    {
     "data": {
      "text/plain": [
       "8"
      ]
     },
     "execution_count": 16,
     "metadata": {},
     "output_type": "execute_result"
    }
   ],
   "source": [
    "8//1"
   ]
  },
  {
   "cell_type": "code",
   "execution_count": 18,
   "metadata": {},
   "outputs": [
    {
     "data": {
      "text/plain": [
       "2"
      ]
     },
     "execution_count": 18,
     "metadata": {},
     "output_type": "execute_result"
    }
   ],
   "source": [
    "5//2"
   ]
  },
  {
   "cell_type": "code",
   "execution_count": null,
   "metadata": {
    "collapsed": true
   },
   "outputs": [],
   "source": []
  }
 ],
 "metadata": {
  "kernelspec": {
   "display_name": "Python 3",
   "language": "python",
   "name": "python3"
  },
  "language_info": {
   "codemirror_mode": {
    "name": "ipython",
    "version": 3
   },
   "file_extension": ".py",
   "mimetype": "text/x-python",
   "name": "python",
   "nbconvert_exporter": "python",
   "pygments_lexer": "ipython3",
   "version": "3.6.1"
  }
 },
 "nbformat": 4,
 "nbformat_minor": 2
}
